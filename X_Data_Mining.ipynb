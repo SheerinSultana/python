{
  "nbformat": 4,
  "nbformat_minor": 0,
  "metadata": {
    "colab": {
      "provenance": []
    },
    "kernelspec": {
      "name": "python3",
      "display_name": "Python 3"
    },
    "language_info": {
      "name": "python"
    }
  },
  "cells": [
    {
      "cell_type": "code",
      "execution_count": 2,
      "metadata": {
        "colab": {
          "base_uri": "https://localhost:8080/"
        },
        "id": "DfSefIfyKbsV",
        "outputId": "3c4ed970-e76d-4f3f-b585-0f5ea6968d8c"
      },
      "outputs": [
        {
          "output_type": "stream",
          "name": "stdout",
          "text": [
            "Requirement already satisfied: tweepy in /usr/local/lib/python3.11/dist-packages (4.15.0)\n",
            "Requirement already satisfied: oauthlib<4,>=3.2.0 in /usr/local/lib/python3.11/dist-packages (from tweepy) (3.2.2)\n",
            "Requirement already satisfied: requests<3,>=2.27.0 in /usr/local/lib/python3.11/dist-packages (from tweepy) (2.32.3)\n",
            "Requirement already satisfied: requests-oauthlib<3,>=1.2.0 in /usr/local/lib/python3.11/dist-packages (from tweepy) (2.0.0)\n",
            "Requirement already satisfied: charset-normalizer<4,>=2 in /usr/local/lib/python3.11/dist-packages (from requests<3,>=2.27.0->tweepy) (3.4.1)\n",
            "Requirement already satisfied: idna<4,>=2.5 in /usr/local/lib/python3.11/dist-packages (from requests<3,>=2.27.0->tweepy) (3.10)\n",
            "Requirement already satisfied: urllib3<3,>=1.21.1 in /usr/local/lib/python3.11/dist-packages (from requests<3,>=2.27.0->tweepy) (2.3.0)\n",
            "Requirement already satisfied: certifi>=2017.4.17 in /usr/local/lib/python3.11/dist-packages (from requests<3,>=2.27.0->tweepy) (2025.1.31)\n"
          ]
        }
      ],
      "source": [
        "!pip install tweepy --upgrade\n"
      ]
    },
    {
      "cell_type": "code",
      "source": [
        "import tweepy\n",
        "from tweepy import API\n",
        "\n",
        "consumer_key=''\n",
        "consumer_secret=''\n",
        "access_token=''\n",
        "access_token_secret=''"
      ],
      "metadata": {
        "id": "KasR4RHbM0eU"
      },
      "execution_count": 3,
      "outputs": []
    },
    {
      "cell_type": "code",
      "source": [
        "auth = tweepy.OAuth1UserHandler(consumer_key,consumer_secret,access_token,access_token_secret )\n",
        "api=tweepy.API(auth)\n",
        "try:\n",
        "    api.verify_credentials()\n",
        "    print(\"Authentication successful!\")\n",
        "except Exception as e:\n",
        "    print(\"Authentication failed:\")\n"
      ],
      "metadata": {
        "colab": {
          "base_uri": "https://localhost:8080/"
        },
        "id": "5MrOr2GrYHnY",
        "outputId": "b1f10b4c-8b18-43fc-aef7-028933ef38e2"
      },
      "execution_count": 4,
      "outputs": [
        {
          "output_type": "stream",
          "name": "stdout",
          "text": [
            "Authentication successful!\n"
          ]
        }
      ]
    },
    {
      "cell_type": "code",
      "source": [
        "try:\n",
        "    tweet = api.update_status(\"Testing Twitter API with Tweepy. #devtest\")\n",
        "    print(\"Tweet successful:\", tweet.id)\n",
        "except tweepy.TweepyException as e:\n",
        "    print(\"Error posting tweet:\", e)"
      ],
      "metadata": {
        "colab": {
          "base_uri": "https://localhost:8080/"
        },
        "collapsed": true,
        "id": "KsHYW-JwOurS",
        "outputId": "c22a884f-6c8e-4665-95e6-2d106db98cb8"
      },
      "execution_count": 40,
      "outputs": [
        {
          "output_type": "stream",
          "name": "stdout",
          "text": [
            "Error posting tweet: 403 Forbidden\n",
            "453 - You currently have access to a subset of X API V2 endpoints and limited v1.1 endpoints (e.g. media post, oauth) only. If you need access to this endpoint, you may need a different access level. You can learn more here: https://developer.x.com/en/portal/product\n"
          ]
        }
      ]
    },
    {
      "cell_type": "code",
      "source": [
        "try:\n",
        "    tweets = api.home_timeline(count=5, tweet_mode='extended')\n",
        "    for tweet in tweets:\n",
        "        print(f\"{tweet.user.name} tweeted:\\n{tweet.full_text}\\n\")\n",
        "except tweepy.TweepyException as e:\n",
        "    print(\"Error fetching tweets:\", e)"
      ],
      "metadata": {
        "colab": {
          "base_uri": "https://localhost:8080/"
        },
        "collapsed": true,
        "id": "FGle_Z7saELW",
        "outputId": "561def39-5b24-43f7-d69d-0d7275ef90c4"
      },
      "execution_count": 41,
      "outputs": [
        {
          "output_type": "stream",
          "name": "stdout",
          "text": [
            "Error fetching tweets: 403 Forbidden\n",
            "453 - You currently have access to a subset of X API V2 endpoints and limited v1.1 endpoints (e.g. media post, oauth) only. If you need access to this endpoint, you may need a different access level. You can learn more here: https://developer.x.com/en/portal/product\n"
          ]
        }
      ]
    }
  ]
}